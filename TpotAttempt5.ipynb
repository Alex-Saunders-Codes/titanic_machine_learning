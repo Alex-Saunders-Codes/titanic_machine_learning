{
 "cells": [
  {
   "cell_type": "code",
   "execution_count": 1,
   "id": "23b17074-ffca-408e-af02-ffe375ceb869",
   "metadata": {},
   "outputs": [],
   "source": [
    "import pandas as pd"
   ]
  },
  {
   "cell_type": "code",
   "execution_count": 2,
   "id": "4abccecd-ef57-4096-89bd-d86e24ba1fa4",
   "metadata": {},
   "outputs": [],
   "source": [
    "def cleanTitanic(path):\n",
    "    data = pd.read_csv(path)\n",
    "    data.drop(columns='Cabin', inplace=True)\n",
    "    values = {'Age': data['Age'].mean(), 'Embarked':data['Embarked'].mode()[0] }\n",
    "    data.fillna(value = values, inplace=True)\n",
    "    data['female'] = pd.get_dummies(data['Sex'])['female']\n",
    "    emb = pd.get_dummies(data['Embarked'])\n",
    "    data['Emb Cherbourg'] = emb['C']\n",
    "    data['Emb Queenstown'] = emb['Q']\n",
    "    data['Emb Southampton'] = emb['S']\n",
    "    return data"
   ]
  },
  {
   "cell_type": "code",
   "execution_count": 3,
   "id": "7e94b611-1c0e-48a8-8d5a-fc89ff949835",
   "metadata": {},
   "outputs": [],
   "source": [
    "data = cleanTitanic('titanic_data/train (1).csv')\n",
    "X = data[['Pclass',  'Age', 'SibSp',\n",
    "       'Parch', 'Fare', 'female', 'Emb Cherbourg',\n",
    "       'Emb Queenstown', 'Emb Southampton']]\n",
    "y = data['Survived']"
   ]
  },
  {
   "cell_type": "code",
   "execution_count": 39,
   "id": "6c2f1360-f07d-4f66-872b-8e6a73a577ea",
   "metadata": {},
   "outputs": [],
   "source": [
    "X.to_csv('titanic_data/cleaned_1.csv', index=False)"
   ]
  },
  {
   "cell_type": "code",
   "execution_count": 4,
   "id": "46cdaddd-5297-4ef9-8c19-a6c9bcd54058",
   "metadata": {},
   "outputs": [],
   "source": [
    "from sklearn.model_selection import train_test_split\n",
    "\n",
    "X_train, X_test, y_train, y_test = train_test_split(X, y, random_state=42)"
   ]
  },
  {
   "cell_type": "code",
   "execution_count": 5,
   "id": "1a6feca9-68c7-4a43-a97f-7f73686c96f3",
   "metadata": {},
   "outputs": [],
   "source": [
    "test = cleanTitanic('titanic_data/test_2.csv')"
   ]
  },
  {
   "cell_type": "code",
   "execution_count": 6,
   "id": "57adc967-bf7d-4e5b-a4ba-2d169d033099",
   "metadata": {},
   "outputs": [],
   "source": [
    "def logistic_fit_and_predict(X_train, X_test, y_train, y_test, predict):\n",
    "    from sklearn.linear_model import LogisticRegression\n",
    "    from sklearn import preprocessing\n",
    "    classifier = LogisticRegression(max_iter=1000, random_state=42)\n",
    "    scaler = preprocessing.StandardScaler().fit(X_train)\n",
    "    X_scaled = scaler.transform(X_train)\n",
    "    classifier.fit(X_train, y_train)\n",
    "    print(f\"Training Data Score: {classifier.score(X_train, y_train)}\")\n",
    "    print(f\"Testing Data Score: {classifier.score(X_test, y_test)}\")\n",
    "    predict_sub = predict[['Pclass',  'Age', 'SibSp',\n",
    "       'Parch', 'Fare', 'female', 'Emb Cherbourg',\n",
    "       'Emb Queenstown', 'Emb Southampton']]\n",
    "    scaler_predict = preprocessing.StandardScaler().fit(predict_sub)\n",
    "    predict_scaled = scaler_predict.transform(predict_sub)\n",
    "    survived = classifier.predict(predict_sub)\n",
    "    predictions = pd.DataFrame({'PassengerId':list(test['PassengerId']), 'Survived':list(survived)})\n",
    "    return predictions"
   ]
  },
  {
   "cell_type": "code",
   "execution_count": 7,
   "id": "92e3f75f-70d9-4870-a9f6-3be6205d5d78",
   "metadata": {},
   "outputs": [
    {
     "name": "stdout",
     "output_type": "stream",
     "text": [
      "Training Data Score: 0.7827715355805244\n",
      "Testing Data Score: 0.7752808988764045\n"
     ]
    }
   ],
   "source": [
    "predictions = logistic_fit_and_predict(X_train, X_test, y_train, y_test, test)"
   ]
  },
  {
   "cell_type": "code",
   "execution_count": 8,
   "id": "b0165ac8-3d3d-4b09-b7b8-ae00636e7887",
   "metadata": {},
   "outputs": [
    {
     "data": {
      "text/html": [
       "<div>\n",
       "<style scoped>\n",
       "    .dataframe tbody tr th:only-of-type {\n",
       "        vertical-align: middle;\n",
       "    }\n",
       "\n",
       "    .dataframe tbody tr th {\n",
       "        vertical-align: top;\n",
       "    }\n",
       "\n",
       "    .dataframe thead th {\n",
       "        text-align: right;\n",
       "    }\n",
       "</style>\n",
       "<table border=\"1\" class=\"dataframe\">\n",
       "  <thead>\n",
       "    <tr style=\"text-align: right;\">\n",
       "      <th></th>\n",
       "      <th>PassengerId</th>\n",
       "      <th>Survived</th>\n",
       "    </tr>\n",
       "  </thead>\n",
       "  <tbody>\n",
       "    <tr>\n",
       "      <th>0</th>\n",
       "      <td>741</td>\n",
       "      <td>1</td>\n",
       "    </tr>\n",
       "    <tr>\n",
       "      <th>1</th>\n",
       "      <td>104</td>\n",
       "      <td>0</td>\n",
       "    </tr>\n",
       "    <tr>\n",
       "      <th>2</th>\n",
       "      <td>181</td>\n",
       "      <td>0</td>\n",
       "    </tr>\n",
       "    <tr>\n",
       "      <th>3</th>\n",
       "      <td>412</td>\n",
       "      <td>0</td>\n",
       "    </tr>\n",
       "    <tr>\n",
       "      <th>4</th>\n",
       "      <td>414</td>\n",
       "      <td>0</td>\n",
       "    </tr>\n",
       "    <tr>\n",
       "      <th>...</th>\n",
       "      <td>...</td>\n",
       "      <td>...</td>\n",
       "    </tr>\n",
       "    <tr>\n",
       "      <th>174</th>\n",
       "      <td>612</td>\n",
       "      <td>0</td>\n",
       "    </tr>\n",
       "    <tr>\n",
       "      <th>175</th>\n",
       "      <td>626</td>\n",
       "      <td>0</td>\n",
       "    </tr>\n",
       "    <tr>\n",
       "      <th>176</th>\n",
       "      <td>881</td>\n",
       "      <td>1</td>\n",
       "    </tr>\n",
       "    <tr>\n",
       "      <th>177</th>\n",
       "      <td>606</td>\n",
       "      <td>0</td>\n",
       "    </tr>\n",
       "    <tr>\n",
       "      <th>178</th>\n",
       "      <td>379</td>\n",
       "      <td>0</td>\n",
       "    </tr>\n",
       "  </tbody>\n",
       "</table>\n",
       "<p>179 rows × 2 columns</p>\n",
       "</div>"
      ],
      "text/plain": [
       "     PassengerId  Survived\n",
       "0            741         1\n",
       "1            104         0\n",
       "2            181         0\n",
       "3            412         0\n",
       "4            414         0\n",
       "..           ...       ...\n",
       "174          612         0\n",
       "175          626         0\n",
       "176          881         1\n",
       "177          606         0\n",
       "178          379         0\n",
       "\n",
       "[179 rows x 2 columns]"
      ]
     },
     "execution_count": 8,
     "metadata": {},
     "output_type": "execute_result"
    }
   ],
   "source": [
    "predictions"
   ]
  },
  {
   "cell_type": "code",
   "execution_count": 9,
   "id": "aaaa7c17-4aa3-4c14-8c67-838e0d20684f",
   "metadata": {},
   "outputs": [],
   "source": [
    "predictions.to_csv('submissions/s10_13_2.csv', index=False)"
   ]
  },
  {
   "cell_type": "code",
   "execution_count": 10,
   "id": "aff7a8ae-a205-4b13-a6c3-744fae1c8660",
   "metadata": {},
   "outputs": [],
   "source": [
    "def KNN_and_predict(X_train, X_test, y_train, y_test, predict):\n",
    "    from sklearn.neighbors import KNeighborsClassifier as KNN\n",
    "    from sklearn import preprocessing\n",
    "    classifier = KNN(leaf_size= 30, n_neighbors= 10, weights= 'uniform', random_state=42)\n",
    "    X_scaled = preprocessing.StandardScaler().fit_transform(X_train)\n",
    "    classifier.fit(X_scaled, y_train)\n",
    "    X_test_scaled = StandardScaler().fit_transform(X_test_class)\n",
    "    print(f\"Training Data Score: {classifier.score(X_scaled, y_train)}\")\n",
    "    print(f\"Testing Data Score: {classifier.score(X_test_scaled, y_test)}\")\n",
    "    predict_sub = predict[['Pclass',  'Age', 'SibSp',\n",
    "       'Parch', 'Fare', 'female', 'Emb Cherbourg',\n",
    "       'Emb Queenstown', 'Emb Southampton']]\n",
    "    scaled_predict = StandardScaler().fit_transform(predict_sub)\n",
    "    survived = classifier.predict(scaled_predict)\n",
    "    predictions = pd.DataFrame({'PassengerId':list(test['PassengerId']), 'Survived':list(survived)})\n",
    "    return predictions"
   ]
  },
  {
   "cell_type": "code",
   "execution_count": 11,
   "id": "4dd154a5-3621-4bff-984b-71fdc230668f",
   "metadata": {},
   "outputs": [
    {
     "name": "stdout",
     "output_type": "stream",
     "text": [
      "Training Data Score: 0.7827715355805244\n",
      "Testing Data Score: 0.7752808988764045\n"
     ]
    }
   ],
   "source": [
    "predictions_knn = logistic_fit_and_predict(X_train, X_test, y_train, y_test, test)"
   ]
  },
  {
   "cell_type": "code",
   "execution_count": 12,
   "id": "333a3edc-2939-4b98-b726-8b8ea80a8d2a",
   "metadata": {},
   "outputs": [],
   "source": [
    "predictions_knn.to_csv('submissions/10_13_4_KNN.csv', index=False)"
   ]
  },
  {
   "cell_type": "code",
   "execution_count": 13,
   "id": "1a64bcb7-bc1f-4a30-bead-408e7ce59a2b",
   "metadata": {},
   "outputs": [],
   "source": [
    "from sklearn.neighbors import KNeighborsClassifier as KNN\n",
    "from sklearn.preprocessing import StandardScaler\n",
    "import matplotlib.pyplot as plt"
   ]
  },
  {
   "cell_type": "code",
   "execution_count": 14,
   "id": "1dcae33f-291d-4e51-8f4f-c8f9a93ba04a",
   "metadata": {},
   "outputs": [],
   "source": [
    "X_train_scaled = StandardScaler().fit_transform(X_train)\n",
    "X_test_scaled = StandardScaler().fit_transform(X_test)"
   ]
  },
  {
   "cell_type": "code",
   "execution_count": 15,
   "id": "197964f5-f17d-4c44-9532-deda55c54281",
   "metadata": {},
   "outputs": [
    {
     "name": "stdout",
     "output_type": "stream",
     "text": [
      "k: 1, Train/Test Score: 0.987/0.747\n",
      "k: 3, Train/Test Score: 0.873/0.787\n",
      "k: 5, Train/Test Score: 0.861/0.764\n",
      "k: 7, Train/Test Score: 0.833/0.792\n",
      "k: 9, Train/Test Score: 0.833/0.775\n",
      "k: 11, Train/Test Score: 0.828/0.775\n",
      "k: 13, Train/Test Score: 0.820/0.770\n",
      "k: 15, Train/Test Score: 0.816/0.781\n",
      "k: 17, Train/Test Score: 0.809/0.781\n",
      "k: 19, Train/Test Score: 0.801/0.781\n"
     ]
    },
    {
     "data": {
      "image/png": "[encoded data removed]",
      "text/plain": [
       "<Figure size 432x288 with 1 Axes>"
      ]
     },
     "metadata": {
      "needs_background": "light"
     },
     "output_type": "display_data"
    }
   ],
   "source": [
    "train_scores = []\n",
    "test_scores = []\n",
    "for k in range(1, 20, 2):\n",
    "    knn = KNN(n_neighbors=k)\n",
    "    knn.fit(X_train_scaled, y_train)\n",
    "    train_score = knn.score(X_train_scaled, y_train)\n",
    "    test_score = knn.score(X_test_scaled, y_test)\n",
    "    train_scores.append(train_score)\n",
    "    test_scores.append(test_score)\n",
    "    print(f\"k: {k}, Train/Test Score: {train_score:.3f}/{test_score:.3f}\")\n",
    "    \n",
    "    \n",
    "plt.plot(range(1, 20, 2), train_scores, marker='o')\n",
    "plt.plot(range(1, 20, 2), test_scores, marker=\"x\")\n",
    "plt.xlabel(\"k neighbors\")\n",
    "plt.ylabel(\"Testing accuracy score\")\n",
    "plt.show()"
   ]
  },
  {
   "cell_type": "code",
   "execution_count": 16,
   "id": "e9a6a909-833d-4bc0-bc75-2917c42ccdf9",
   "metadata": {},
   "outputs": [],
   "source": [
    "from sklearn.model_selection import GridSearchCV\n"
   ]
  },
  {
   "cell_type": "code",
   "execution_count": 17,
   "id": "7171b7e9-1934-43c5-8e11-c13307ed347c",
   "metadata": {},
   "outputs": [],
   "source": [
    "param_grid = {\n",
    "    'n_neighbors': [6, 9, 10, 11, 12],\n",
    "    'weights': ['uniform', 'distance'],\n",
    "    'leaf_size': [30, 40, 50, 60, 70]\n",
    "}\n",
    "model = KNN()\n",
    "grid_clf = GridSearchCV(model, param_grid, verbose=3)"
   ]
  },
  {
   "cell_type": "code",
   "execution_count": 18,
   "id": "083af82b-2b25-4800-990f-c0b53faed72f",
   "metadata": {
    "collapsed": true,
    "jupyter": {
     "outputs_hidden": true
    },
    "tags": []
   },
   "outputs": [
    {
     "name": "stdout",
     "output_type": "stream",
     "text": [
      "Fitting 5 folds for each of 50 candidates, totalling 250 fits\n",
      "[CV 1/5] END ...leaf_size=30, n_neighbors=6, weights=uniform; total time=   0.0s\n",
      "[CV 2/5] END ...leaf_size=30, n_neighbors=6, weights=uniform; total time=   0.0s\n",
      "[CV 3/5] END ...leaf_size=30, n_neighbors=6, weights=uniform; total time=   0.0s\n",
      "[CV 4/5] END ...leaf_size=30, n_neighbors=6, weights=uniform; total time=   0.0s\n",
      "[CV 5/5] END ...leaf_size=30, n_neighbors=6, weights=uniform; total time=   0.0s\n",
      "[CV 1/5] END ..leaf_size=30, n_neighbors=6, weights=distance; total time=   0.0s\n",
      "[CV 2/5] END ..leaf_size=30, n_neighbors=6, weights=distance; total time=   0.0s\n",
      "[CV 3/5] END ..leaf_size=30, n_neighbors=6, weights=distance; total time=   0.0s\n",
      "[CV 4/5] END ..leaf_size=30, n_neighbors=6, weights=distance; total time=   0.0s\n",
      "[CV 5/5] END ..leaf_size=30, n_neighbors=6, weights=distance; total time=   0.0s\n",
      "[CV 1/5] END ...leaf_size=30, n_neighbors=9, weights=uniform; total time=   0.0s\n",
      "[CV 2/5] END ...leaf_size=30, n_neighbors=9, weights=uniform; total time=   0.0s\n",
      "[CV 3/5] END ...leaf_size=30, n_neighbors=9, weights=uniform; total time=   0.0s\n",
      "[CV 4/5] END ...leaf_size=30, n_neighbors=9, weights=uniform; total time=   0.0s\n",
      "[CV 5/5] END ...leaf_size=30, n_neighbors=9, weights=uniform; total time=   0.0s\n",
      "[CV 1/5] END ..leaf_size=30, n_neighbors=9, weights=distance; total time=   0.0s\n",
      "[CV 2/5] END ..leaf_size=30, n_neighbors=9, weights=distance; total time=   0.0s\n",
      "[CV 3/5] END ..leaf_size=30, n_neighbors=9, weights=distance; total time=   0.0s\n",
      "[CV 4/5] END ..leaf_size=30, n_neighbors=9, weights=distance; total time=   0.0s\n",
      "[CV 5/5] END ..leaf_size=30, n_neighbors=9, weights=distance; total time=   0.0s\n",
      "[CV 1/5] END ..leaf_size=30, n_neighbors=10, weights=uniform; total time=   0.0s\n",
      "[CV 2/5] END ..leaf_size=30, n_neighbors=10, weights=uniform; total time=   0.0s\n",
      "[CV 3/5] END ..leaf_size=30, n_neighbors=10, weights=uniform; total time=   0.0s\n",
      "[CV 4/5] END ..leaf_size=30, n_neighbors=10, weights=uniform; total time=   0.0s\n",
      "[CV 5/5] END ..leaf_size=30, n_neighbors=10, weights=uniform; total time=   0.0s\n",
      "[CV 1/5] END .leaf_size=30, n_neighbors=10, weights=distance; total time=   0.0s\n",
      "[CV 2/5] END .leaf_size=30, n_neighbors=10, weights=distance; total time=   0.0s\n",
      "[CV 3/5] END .leaf_size=30, n_neighbors=10, weights=distance; total time=   0.0s\n",
      "[CV 4/5] END .leaf_size=30, n_neighbors=10, weights=distance; total time=   0.0s\n",
      "[CV 5/5] END .leaf_size=30, n_neighbors=10, weights=distance; total time=   0.0s\n",
      "[CV 1/5] END ..leaf_size=30, n_neighbors=11, weights=uniform; total time=   0.0s\n",
      "[CV 2/5] END ..leaf_size=30, n_neighbors=11, weights=uniform; total time=   0.0s\n",
      "[CV 3/5] END ..leaf_size=30, n_neighbors=11, weights=uniform; total time=   0.0s\n",
      "[CV 4/5] END ..leaf_size=30, n_neighbors=11, weights=uniform; total time=   0.0s\n",
      "[CV 5/5] END ..leaf_size=30, n_neighbors=11, weights=uniform; total time=   0.0s\n",
      "[CV 1/5] END .leaf_size=30, n_neighbors=11, weights=distance; total time=   0.0s\n",
      "[CV 2/5] END .leaf_size=30, n_neighbors=11, weights=distance; total time=   0.0s\n",
      "[CV 3/5] END .leaf_size=30, n_neighbors=11, weights=distance; total time=   0.0s\n",
      "[CV 4/5] END .leaf_size=30, n_neighbors=11, weights=distance; total time=   0.0s\n",
      "[CV 5/5] END .leaf_size=30, n_neighbors=11, weights=distance; total time=   0.0s\n",
      "[CV 1/5] END ..leaf_size=30, n_neighbors=12, weights=uniform; total time=   0.0s\n",
      "[CV 2/5] END ..leaf_size=30, n_neighbors=12, weights=uniform; total time=   0.0s\n",
      "[CV 3/5] END ..leaf_size=30, n_neighbors=12, weights=uniform; total time=   0.0s\n",
      "[CV 4/5] END ..leaf_size=30, n_neighbors=12, weights=uniform; total time=   0.0s\n",
      "[CV 5/5] END ..leaf_size=30, n_neighbors=12, weights=uniform; total time=   0.0s\n",
      "[CV 1/5] END .leaf_size=30, n_neighbors=12, weights=distance; total time=   0.0s\n",
      "[CV 2/5] END .leaf_size=30, n_neighbors=12, weights=distance; total time=   0.0s\n",
      "[CV 3/5] END .leaf_size=30, n_neighbors=12, weights=distance; total time=   0.0s\n",
      "[CV 4/5] END .leaf_size=30, n_neighbors=12, weights=distance; total time=   0.0s\n",
      "[CV 5/5] END .leaf_size=30, n_neighbors=12, weights=distance; total time=   0.0s\n",
      "[CV 1/5] END ...leaf_size=40, n_neighbors=6, weights=uniform; total time=   0.0s\n",
      "[CV 2/5] END ...leaf_size=40, n_neighbors=6, weights=uniform; total time=   0.0s\n",
      "[CV 3/5] END ...leaf_size=40, n_neighbors=6, weights=uniform; total time=   0.0s\n",
      "[CV 4/5] END ...leaf_size=40, n_neighbors=6, weights=uniform; total time=   0.0s\n",
      "[CV 5/5] END ...leaf_size=40, n_neighbors=6, weights=uniform; total time=   0.0s\n",
      "[CV 1/5] END ..leaf_size=40, n_neighbors=6, weights=distance; total time=   0.0s\n",
      "[CV 2/5] END ..leaf_size=40, n_neighbors=6, weights=distance; total time=   0.0s\n",
      "[CV 3/5] END ..leaf_size=40, n_neighbors=6, weights=distance; total time=   0.0s\n",
      "[CV 4/5] END ..leaf_size=40, n_neighbors=6, weights=distance; total time=   0.0s\n",
      "[CV 5/5] END ..leaf_size=40, n_neighbors=6, weights=distance; total time=   0.0s\n",
      "[CV 1/5] END ...leaf_size=40, n_neighbors=9, weights=uniform; total time=   0.0s\n",
      "[CV 2/5] END ...leaf_size=40, n_neighbors=9, weights=uniform; total time=   0.0s\n",
      "[CV 3/5] END ...leaf_size=40, n_neighbors=9, weights=uniform; total time=   0.0s\n",
      "[CV 4/5] END ...leaf_size=40, n_neighbors=9, weights=uniform; total time=   0.0s\n",
      "[CV 5/5] END ...leaf_size=40, n_neighbors=9, weights=uniform; total time=   0.0s\n",
      "[CV 1/5] END ..leaf_size=40, n_neighbors=9, weights=distance; total time=   0.0s\n",
      "[CV 2/5] END ..leaf_size=40, n_neighbors=9, weights=distance; total time=   0.0s\n",
      "[CV 3/5] END ..leaf_size=40, n_neighbors=9, weights=distance; total time=   0.0s\n",
      "[CV 4/5] END ..leaf_size=40, n_neighbors=9, weights=distance; total time=   0.0s\n",
      "[CV 5/5] END ..leaf_size=40, n_neighbors=9, weights=distance; total time=   0.0s\n",
      "[CV 1/5] END ..leaf_size=40, n_neighbors=10, weights=uniform; total time=   0.0s\n",
      "[CV 2/5] END ..leaf_size=40, n_neighbors=10, weights=uniform; total time=   0.0s\n",
      "[CV 3/5] END ..leaf_size=40, n_neighbors=10, weights=uniform; total time=   0.0s\n",
      "[CV 4/5] END ..leaf_size=40, n_neighbors=10, weights=uniform; total time=   0.0s\n",
      "[CV 5/5] END ..leaf_size=40, n_neighbors=10, weights=uniform; total time=   0.0s\n",
      "[CV 1/5] END .leaf_size=40, n_neighbors=10, weights=distance; total time=   0.0s\n",
      "[CV 2/5] END .leaf_size=40, n_neighbors=10, weights=distance; total time=   0.0s\n",
      "[CV 3/5] END .leaf_size=40, n_neighbors=10, weights=distance; total time=   0.0s\n",
      "[CV 4/5] END .leaf_size=40, n_neighbors=10, weights=distance; total time=   0.0s\n",
      "[CV 5/5] END .leaf_size=40, n_neighbors=10, weights=distance; total time=   0.0s\n",
      "[CV 1/5] END ..leaf_size=40, n_neighbors=11, weights=uniform; total time=   0.0s\n",
      "[CV 2/5] END ..leaf_size=40, n_neighbors=11, weights=uniform; total time=   0.0s\n",
      "[CV 3/5] END ..leaf_size=40, n_neighbors=11, weights=uniform; total time=   0.0s\n",
      "[CV 4/5] END ..leaf_size=40, n_neighbors=11, weights=uniform; total time=   0.0s\n",
      "[CV 5/5] END ..leaf_size=40, n_neighbors=11, weights=uniform; total time=   0.0s\n",
      "[CV 1/5] END .leaf_size=40, n_neighbors=11, weights=distance; total time=   0.0s\n",
      "[CV 2/5] END .leaf_size=40, n_neighbors=11, weights=distance; total time=   0.0s\n",
      "[CV 3/5] END .leaf_size=40, n_neighbors=11, weights=distance; total time=   0.0s\n",
      "[CV 4/5] END .leaf_size=40, n_neighbors=11, weights=distance; total time=   0.0s\n",
      "[CV 5/5] END .leaf_size=40, n_neighbors=11, weights=distance; total time=   0.0s\n",
      "[CV 1/5] END ..leaf_size=40, n_neighbors=12, weights=uniform; total time=   0.0s\n",
      "[CV 2/5] END ..leaf_size=40, n_neighbors=12, weights=uniform; total time=   0.0s\n",
      "[CV 3/5] END ..leaf_size=40, n_neighbors=12, weights=uniform; total time=   0.0s\n",
      "[CV 4/5] END ..leaf_size=40, n_neighbors=12, weights=uniform; total time=   0.0s\n",
      "[CV 5/5] END ..leaf_size=40, n_neighbors=12, weights=uniform; total time=   0.0s\n",
      "[CV 1/5] END .leaf_size=40, n_neighbors=12, weights=distance; total time=   0.0s\n",
      "[CV 2/5] END .leaf_size=40, n_neighbors=12, weights=distance; total time=   0.0s\n",
      "[CV 3/5] END .leaf_size=40, n_neighbors=12, weights=distance; total time=   0.0s\n",
      "[CV 4/5] END .leaf_size=40, n_neighbors=12, weights=distance; total time=   0.0s\n",
      "[CV 5/5] END .leaf_size=40, n_neighbors=12, weights=distance; total time=   0.0s\n",
      "[CV 1/5] END ...leaf_size=50, n_neighbors=6, weights=uniform; total time=   0.0s\n",
      "[CV 2/5] END ...leaf_size=50, n_neighbors=6, weights=uniform; total time=   0.0s\n",
      "[CV 3/5] END ...leaf_size=50, n_neighbors=6, weights=uniform; total time=   0.0s\n",
      "[CV 4/5] END ...leaf_size=50, n_neighbors=6, weights=uniform; total time=   0.0s\n",
      "[CV 5/5] END ...leaf_size=50, n_neighbors=6, weights=uniform; total time=   0.0s\n",
      "[CV 1/5] END ..leaf_size=50, n_neighbors=6, weights=distance; total time=   0.0s\n",
      "[CV 2/5] END ..leaf_size=50, n_neighbors=6, weights=distance; total time=   0.0s\n",
      "[CV 3/5] END ..leaf_size=50, n_neighbors=6, weights=distance; total time=   0.0s\n",
      "[CV 4/5] END ..leaf_size=50, n_neighbors=6, weights=distance; total time=   0.0s\n",
      "[CV 5/5] END ..leaf_size=50, n_neighbors=6, weights=distance; total time=   0.0s\n",
      "[CV 1/5] END ...leaf_size=50, n_neighbors=9, weights=uniform; total time=   0.0s\n",
      "[CV 2/5] END ...leaf_size=50, n_neighbors=9, weights=uniform; total time=   0.0s\n",
      "[CV 3/5] END ...leaf_size=50, n_neighbors=9, weights=uniform; total time=   0.0s\n",
      "[CV 4/5] END ...leaf_size=50, n_neighbors=9, weights=uniform; total time=   0.0s\n",
      "[CV 5/5] END ...leaf_size=50, n_neighbors=9, weights=uniform; total time=   0.0s\n",
      "[CV 1/5] END ..leaf_size=50, n_neighbors=9, weights=distance; total time=   0.0s\n",
      "[CV 2/5] END ..leaf_size=50, n_neighbors=9, weights=distance; total time=   0.0s\n",
      "[CV 3/5] END ..leaf_size=50, n_neighbors=9, weights=distance; total time=   0.0s\n",
      "[CV 4/5] END ..leaf_size=50, n_neighbors=9, weights=distance; total time=   0.0s\n",
      "[CV 5/5] END ..leaf_size=50, n_neighbors=9, weights=distance; total time=   0.0s\n",
      "[CV 1/5] END ..leaf_size=50, n_neighbors=10, weights=uniform; total time=   0.0s\n",
      "[CV 2/5] END ..leaf_size=50, n_neighbors=10, weights=uniform; total time=   0.0s\n",
      "[CV 3/5] END ..leaf_size=50, n_neighbors=10, weights=uniform; total time=   0.0s\n",
      "[CV 4/5] END ..leaf_size=50, n_neighbors=10, weights=uniform; total time=   0.0s\n",
      "[CV 5/5] END ..leaf_size=50, n_neighbors=10, weights=uniform; total time=   0.0s\n",
      "[CV 1/5] END .leaf_size=50, n_neighbors=10, weights=distance; total time=   0.0s\n",
      "[CV 2/5] END .leaf_size=50, n_neighbors=10, weights=distance; total time=   0.0s\n",
      "[CV 3/5] END .leaf_size=50, n_neighbors=10, weights=distance; total time=   0.0s\n",
      "[CV 4/5] END .leaf_size=50, n_neighbors=10, weights=distance; total time=   0.0s\n",
      "[CV 5/5] END .leaf_size=50, n_neighbors=10, weights=distance; total time=   0.0s\n",
      "[CV 1/5] END ..leaf_size=50, n_neighbors=11, weights=uniform; total time=   0.0s\n",
      "[CV 2/5] END ..leaf_size=50, n_neighbors=11, weights=uniform; total time=   0.0s\n",
      "[CV 3/5] END ..leaf_size=50, n_neighbors=11, weights=uniform; total time=   0.0s\n",
      "[CV 4/5] END ..leaf_size=50, n_neighbors=11, weights=uniform; total time=   0.0s\n",
      "[CV 5/5] END ..leaf_size=50, n_neighbors=11, weights=uniform; total time=   0.0s\n",
      "[CV 1/5] END .leaf_size=50, n_neighbors=11, weights=distance; total time=   0.0s\n",
      "[CV 2/5] END .leaf_size=50, n_neighbors=11, weights=distance; total time=   0.0s\n",
      "[CV 3/5] END .leaf_size=50, n_neighbors=11, weights=distance; total time=   0.0s\n",
      "[CV 4/5] END .leaf_size=50, n_neighbors=11, weights=distance; total time=   0.0s\n",
      "[CV 5/5] END .leaf_size=50, n_neighbors=11, weights=distance; total time=   0.0s\n",
      "[CV 1/5] END ..leaf_size=50, n_neighbors=12, weights=uniform; total time=   0.0s\n",
      "[CV 2/5] END ..leaf_size=50, n_neighbors=12, weights=uniform; total time=   0.0s\n",
      "[CV 3/5] END ..leaf_size=50, n_neighbors=12, weights=uniform; total time=   0.0s\n",
      "[CV 4/5] END ..leaf_size=50, n_neighbors=12, weights=uniform; total time=   0.0s\n",
      "[CV 5/5] END ..leaf_size=50, n_neighbors=12, weights=uniform; total time=   0.0s\n",
      "[CV 1/5] END .leaf_size=50, n_neighbors=12, weights=distance; total time=   0.0s\n",
      "[CV 2/5] END .leaf_size=50, n_neighbors=12, weights=distance; total time=   0.0s\n",
      "[CV 3/5] END .leaf_size=50, n_neighbors=12, weights=distance; total time=   0.0s\n",
      "[CV 4/5] END .leaf_size=50, n_neighbors=12, weights=distance; total time=   0.0s\n",
      "[CV 5/5] END .leaf_size=50, n_neighbors=12, weights=distance; total time=   0.0s\n",
      "[CV 1/5] END ...leaf_size=60, n_neighbors=6, weights=uniform; total time=   0.0s\n",
      "[CV 2/5] END ...leaf_size=60, n_neighbors=6, weights=uniform; total time=   0.0s\n",
      "[CV 3/5] END ...leaf_size=60, n_neighbors=6, weights=uniform; total time=   0.0s\n",
      "[CV 4/5] END ...leaf_size=60, n_neighbors=6, weights=uniform; total time=   0.0s\n",
      "[CV 5/5] END ...leaf_size=60, n_neighbors=6, weights=uniform; total time=   0.0s\n",
      "[CV 1/5] END ..leaf_size=60, n_neighbors=6, weights=distance; total time=   0.0s\n",
      "[CV 2/5] END ..leaf_size=60, n_neighbors=6, weights=distance; total time=   0.0s\n",
      "[CV 3/5] END ..leaf_size=60, n_neighbors=6, weights=distance; total time=   0.0s\n",
      "[CV 4/5] END ..leaf_size=60, n_neighbors=6, weights=distance; total time=   0.0s\n",
      "[CV 5/5] END ..leaf_size=60, n_neighbors=6, weights=distance; total time=   0.0s\n",
      "[CV 1/5] END ...leaf_size=60, n_neighbors=9, weights=uniform; total time=   0.0s\n",
      "[CV 2/5] END ...leaf_size=60, n_neighbors=9, weights=uniform; total time=   0.0s\n",
      "[CV 3/5] END ...leaf_size=60, n_neighbors=9, weights=uniform; total time=   0.0s\n",
      "[CV 4/5] END ...leaf_size=60, n_neighbors=9, weights=uniform; total time=   0.0s\n",
      "[CV 5/5] END ...leaf_size=60, n_neighbors=9, weights=uniform; total time=   0.0s\n",
      "[CV 1/5] END ..leaf_size=60, n_neighbors=9, weights=distance; total time=   0.0s\n",
      "[CV 2/5] END ..leaf_size=60, n_neighbors=9, weights=distance; total time=   0.0s\n",
      "[CV 3/5] END ..leaf_size=60, n_neighbors=9, weights=distance; total time=   0.0s\n",
      "[CV 4/5] END ..leaf_size=60, n_neighbors=9, weights=distance; total time=   0.0s\n",
      "[CV 5/5] END ..leaf_size=60, n_neighbors=9, weights=distance; total time=   0.0s\n",
      "[CV 1/5] END ..leaf_size=60, n_neighbors=10, weights=uniform; total time=   0.0s\n",
      "[CV 2/5] END ..leaf_size=60, n_neighbors=10, weights=uniform; total time=   0.0s\n",
      "[CV 3/5] END ..leaf_size=60, n_neighbors=10, weights=uniform; total time=   0.0s\n",
      "[CV 4/5] END ..leaf_size=60, n_neighbors=10, weights=uniform; total time=   0.0s\n",
      "[CV 5/5] END ..leaf_size=60, n_neighbors=10, weights=uniform; total time=   0.0s\n",
      "[CV 1/5] END .leaf_size=60, n_neighbors=10, weights=distance; total time=   0.0s\n",
      "[CV 2/5] END .leaf_size=60, n_neighbors=10, weights=distance; total time=   0.0s\n",
      "[CV 3/5] END .leaf_size=60, n_neighbors=10, weights=distance; total time=   0.0s\n",
      "[CV 4/5] END .leaf_size=60, n_neighbors=10, weights=distance; total time=   0.0s\n",
      "[CV 5/5] END .leaf_size=60, n_neighbors=10, weights=distance; total time=   0.0s\n",
      "[CV 1/5] END ..leaf_size=60, n_neighbors=11, weights=uniform; total time=   0.0s\n",
      "[CV 2/5] END ..leaf_size=60, n_neighbors=11, weights=uniform; total time=   0.0s\n",
      "[CV 3/5] END ..leaf_size=60, n_neighbors=11, weights=uniform; total time=   0.0s\n",
      "[CV 4/5] END ..leaf_size=60, n_neighbors=11, weights=uniform; total time=   0.0s\n",
      "[CV 5/5] END ..leaf_size=60, n_neighbors=11, weights=uniform; total time=   0.0s\n",
      "[CV 1/5] END .leaf_size=60, n_neighbors=11, weights=distance; total time=   0.0s\n",
      "[CV 2/5] END .leaf_size=60, n_neighbors=11, weights=distance; total time=   0.0s\n",
      "[CV 3/5] END .leaf_size=60, n_neighbors=11, weights=distance; total time=   0.0s\n",
      "[CV 4/5] END .leaf_size=60, n_neighbors=11, weights=distance; total time=   0.0s\n",
      "[CV 5/5] END .leaf_size=60, n_neighbors=11, weights=distance; total time=   0.0s\n",
      "[CV 1/5] END ..leaf_size=60, n_neighbors=12, weights=uniform; total time=   0.0s\n",
      "[CV 2/5] END ..leaf_size=60, n_neighbors=12, weights=uniform; total time=   0.0s\n",
      "[CV 3/5] END ..leaf_size=60, n_neighbors=12, weights=uniform; total time=   0.0s\n",
      "[CV 4/5] END ..leaf_size=60, n_neighbors=12, weights=uniform; total time=   0.0s\n",
      "[CV 5/5] END ..leaf_size=60, n_neighbors=12, weights=uniform; total time=   0.0s\n",
      "[CV 1/5] END .leaf_size=60, n_neighbors=12, weights=distance; total time=   0.0s\n",
      "[CV 2/5] END .leaf_size=60, n_neighbors=12, weights=distance; total time=   0.0s\n",
      "[CV 3/5] END .leaf_size=60, n_neighbors=12, weights=distance; total time=   0.0s\n",
      "[CV 4/5] END .leaf_size=60, n_neighbors=12, weights=distance; total time=   0.0s\n",
      "[CV 5/5] END .leaf_size=60, n_neighbors=12, weights=distance; total time=   0.0s\n",
      "[CV 1/5] END ...leaf_size=70, n_neighbors=6, weights=uniform; total time=   0.0s\n",
      "[CV 2/5] END ...leaf_size=70, n_neighbors=6, weights=uniform; total time=   0.0s\n",
      "[CV 3/5] END ...leaf_size=70, n_neighbors=6, weights=uniform; total time=   0.0s\n",
      "[CV 4/5] END ...leaf_size=70, n_neighbors=6, weights=uniform; total time=   0.0s\n",
      "[CV 5/5] END ...leaf_size=70, n_neighbors=6, weights=uniform; total time=   0.0s\n",
      "[CV 1/5] END ..leaf_size=70, n_neighbors=6, weights=distance; total time=   0.0s\n",
      "[CV 2/5] END ..leaf_size=70, n_neighbors=6, weights=distance; total time=   0.0s\n",
      "[CV 3/5] END ..leaf_size=70, n_neighbors=6, weights=distance; total time=   0.0s\n",
      "[CV 4/5] END ..leaf_size=70, n_neighbors=6, weights=distance; total time=   0.0s\n",
      "[CV 5/5] END ..leaf_size=70, n_neighbors=6, weights=distance; total time=   0.0s\n",
      "[CV 1/5] END ...leaf_size=70, n_neighbors=9, weights=uniform; total time=   0.0s\n",
      "[CV 2/5] END ...leaf_size=70, n_neighbors=9, weights=uniform; total time=   0.0s\n",
      "[CV 3/5] END ...leaf_size=70, n_neighbors=9, weights=uniform; total time=   0.0s\n",
      "[CV 4/5] END ...leaf_size=70, n_neighbors=9, weights=uniform; total time=   0.0s\n",
      "[CV 5/5] END ...leaf_size=70, n_neighbors=9, weights=uniform; total time=   0.0s\n",
      "[CV 1/5] END ..leaf_size=70, n_neighbors=9, weights=distance; total time=   0.0s\n",
      "[CV 2/5] END ..leaf_size=70, n_neighbors=9, weights=distance; total time=   0.0s\n",
      "[CV 3/5] END ..leaf_size=70, n_neighbors=9, weights=distance; total time=   0.0s\n",
      "[CV 4/5] END ..leaf_size=70, n_neighbors=9, weights=distance; total time=   0.0s\n",
      "[CV 5/5] END ..leaf_size=70, n_neighbors=9, weights=distance; total time=   0.0s\n",
      "[CV 1/5] END ..leaf_size=70, n_neighbors=10, weights=uniform; total time=   0.0s\n",
      "[CV 2/5] END ..leaf_size=70, n_neighbors=10, weights=uniform; total time=   0.0s\n",
      "[CV 3/5] END ..leaf_size=70, n_neighbors=10, weights=uniform; total time=   0.0s\n",
      "[CV 4/5] END ..leaf_size=70, n_neighbors=10, weights=uniform; total time=   0.0s\n",
      "[CV 5/5] END ..leaf_size=70, n_neighbors=10, weights=uniform; total time=   0.0s\n",
      "[CV 1/5] END .leaf_size=70, n_neighbors=10, weights=distance; total time=   0.0s\n",
      "[CV 2/5] END .leaf_size=70, n_neighbors=10, weights=distance; total time=   0.0s\n",
      "[CV 3/5] END .leaf_size=70, n_neighbors=10, weights=distance; total time=   0.0s\n",
      "[CV 4/5] END .leaf_size=70, n_neighbors=10, weights=distance; total time=   0.0s\n",
      "[CV 5/5] END .leaf_size=70, n_neighbors=10, weights=distance; total time=   0.0s\n",
      "[CV 1/5] END ..leaf_size=70, n_neighbors=11, weights=uniform; total time=   0.0s\n",
      "[CV 2/5] END ..leaf_size=70, n_neighbors=11, weights=uniform; total time=   0.0s\n",
      "[CV 3/5] END ..leaf_size=70, n_neighbors=11, weights=uniform; total time=   0.0s\n",
      "[CV 4/5] END ..leaf_size=70, n_neighbors=11, weights=uniform; total time=   0.0s\n",
      "[CV 5/5] END ..leaf_size=70, n_neighbors=11, weights=uniform; total time=   0.0s\n",
      "[CV 1/5] END .leaf_size=70, n_neighbors=11, weights=distance; total time=   0.0s\n",
      "[CV 2/5] END .leaf_size=70, n_neighbors=11, weights=distance; total time=   0.0s\n",
      "[CV 3/5] END .leaf_size=70, n_neighbors=11, weights=distance; total time=   0.0s\n",
      "[CV 4/5] END .leaf_size=70, n_neighbors=11, weights=distance; total time=   0.0s\n",
      "[CV 5/5] END .leaf_size=70, n_neighbors=11, weights=distance; total time=   0.0s\n",
      "[CV 1/5] END ..leaf_size=70, n_neighbors=12, weights=uniform; total time=   0.0s\n",
      "[CV 2/5] END ..leaf_size=70, n_neighbors=12, weights=uniform; total time=   0.0s\n",
      "[CV 3/5] END ..leaf_size=70, n_neighbors=12, weights=uniform; total time=   0.0s\n",
      "[CV 4/5] END ..leaf_size=70, n_neighbors=12, weights=uniform; total time=   0.0s\n",
      "[CV 5/5] END ..leaf_size=70, n_neighbors=12, weights=uniform; total time=   0.0s\n",
      "[CV 1/5] END .leaf_size=70, n_neighbors=12, weights=distance; total time=   0.0s\n",
      "[CV 2/5] END .leaf_size=70, n_neighbors=12, weights=distance; total time=   0.0s\n",
      "[CV 3/5] END .leaf_size=70, n_neighbors=12, weights=distance; total time=   0.0s\n",
      "[CV 4/5] END .leaf_size=70, n_neighbors=12, weights=distance; total time=   0.0s\n",
      "[CV 5/5] END .leaf_size=70, n_neighbors=12, weights=distance; total time=   0.0s\n"
     ]
    },
    {
     "data": {
      "text/plain": [
       "GridSearchCV(estimator=KNeighborsClassifier(),\n",
       "             param_grid={'leaf_size': [30, 40, 50, 60, 70],\n",
       "                         'n_neighbors': [6, 9, 10, 11, 12],\n",
       "                         'weights': ['uniform', 'distance']},\n",
       "             verbose=3)"
      ]
     },
     "execution_count": 18,
     "metadata": {},
     "output_type": "execute_result"
    }
   ],
   "source": [
    "grid_clf.fit(X_train_scaled, y_train)"
   ]
  },
  {
   "cell_type": "code",
   "execution_count": 19,
   "id": "aca6a811-585a-4794-831b-783cca6d0de5",
   "metadata": {},
   "outputs": [
    {
     "data": {
      "text/plain": [
       "{'leaf_size': 30, 'n_neighbors': 10, 'weights': 'uniform'}"
      ]
     },
     "execution_count": 19,
     "metadata": {},
     "output_type": "execute_result"
    }
   ],
   "source": [
    "grid_clf.best_params_"
   ]
  },
  {
   "cell_type": "code",
   "execution_count": 20,
   "id": "1b6de0ee-9da0-46ef-9c0b-67b6fdbffd57",
   "metadata": {},
   "outputs": [
    {
     "name": "stderr",
     "output_type": "stream",
     "text": [
      "C:\\Users\\Alexander Saunders\\anaconda3\\lib\\site-packages\\tpot\\builtins\\__init__.py:36: UserWarning: Warning: optional dependency `torch` is not available. - skipping import of NN models.\n",
      "  warnings.warn(\"Warning: optional dependency `torch` is not available. - skipping import of NN models.\")\n"
     ]
    }
   ],
   "source": [
    "from tpot import TPOTClassifier"
   ]
  },
  {
   "cell_type": "code",
   "execution_count": 22,
   "id": "b3ae523e-cf7a-4940-8c2e-35a35640f57c",
   "metadata": {},
   "outputs": [],
   "source": [
    "pipeline_optimizer = TPOTClassifier(random_state=42, verbosity=2)"
   ]
  },
  {
   "cell_type": "code",
   "execution_count": 24,
   "id": "9834a67b-3ba7-4c62-ae6d-fc85c6d6b953",
   "metadata": {
    "collapsed": true,
    "jupyter": {
     "outputs_hidden": true
    },
    "tags": []
   },
   "outputs": [
    {
     "data": {
      "application/vnd.jupyter.widget-view+json": {
       "model_id": "",
       "version_major": 2,
       "version_minor": 0
      },
      "text/plain": [
       "Optimization Progress:   0%|          | 0/10100 [00:00<?, ?pipeline/s]"
      ]
     },
     "metadata": {},
     "output_type": "display_data"
    },
    {
     "name": "stdout",
     "output_type": "stream",
     "text": [
      "\n",
      "Generation 1 - Current best internal CV score: 0.7807936507936508\n",
      "\n",
      "Generation 2 - Current best internal CV score: 0.7807936507936508\n",
      "\n",
      "Generation 3 - Current best internal CV score: 0.7814285714285715\n",
      "\n",
      "Generation 4 - Current best internal CV score: 0.7814285714285715\n",
      "\n",
      "Generation 5 - Current best internal CV score: 0.7866666666666667\n",
      "\n",
      "Generation 6 - Current best internal CV score: 0.7866666666666667\n",
      "\n",
      "Generation 7 - Current best internal CV score: 0.7868253968253969\n",
      "\n",
      "Generation 8 - Current best internal CV score: 0.809047619047619\n",
      "\n",
      "Generation 9 - Current best internal CV score: 0.809047619047619\n",
      "\n",
      "Generation 10 - Current best internal CV score: 0.809047619047619\n",
      "\n",
      "Generation 11 - Current best internal CV score: 0.809047619047619\n",
      "\n",
      "Generation 12 - Current best internal CV score: 0.809047619047619\n",
      "\n",
      "Generation 13 - Current best internal CV score: 0.809047619047619\n",
      "\n",
      "Generation 14 - Current best internal CV score: 0.809047619047619\n",
      "\n",
      "Generation 15 - Current best internal CV score: 0.809047619047619\n",
      "\n",
      "Generation 16 - Current best internal CV score: 0.809047619047619\n",
      "\n",
      "Generation 17 - Current best internal CV score: 0.809047619047619\n",
      "\n",
      "Generation 18 - Current best internal CV score: 0.8146031746031748\n",
      "\n",
      "Generation 19 - Current best internal CV score: 0.8146031746031748\n",
      "\n",
      "Generation 20 - Current best internal CV score: 0.8146031746031748\n",
      "\n",
      "Generation 21 - Current best internal CV score: 0.8146031746031748\n",
      "\n",
      "Generation 22 - Current best internal CV score: 0.8146031746031748\n",
      "\n",
      "Generation 23 - Current best internal CV score: 0.8146031746031748\n",
      "\n",
      "Generation 24 - Current best internal CV score: 0.8146031746031748\n",
      "\n",
      "Generation 25 - Current best internal CV score: 0.8149206349206348\n",
      "\n",
      "Generation 26 - Current best internal CV score: 0.8201587301587303\n",
      "\n",
      "Generation 27 - Current best internal CV score: 0.8201587301587303\n",
      "\n",
      "Generation 28 - Current best internal CV score: 0.8201587301587303\n",
      "\n",
      "Generation 29 - Current best internal CV score: 0.8201587301587303\n",
      "\n",
      "Generation 30 - Current best internal CV score: 0.8257142857142858\n",
      "\n",
      "Generation 31 - Current best internal CV score: 0.8257142857142858\n",
      "\n",
      "Generation 32 - Current best internal CV score: 0.8257142857142858\n",
      "\n",
      "Generation 33 - Current best internal CV score: 0.8257142857142858\n",
      "\n",
      "Generation 34 - Current best internal CV score: 0.8315873015873017\n",
      "\n",
      "Generation 35 - Current best internal CV score: 0.8315873015873017\n",
      "\n",
      "Generation 36 - Current best internal CV score: 0.8315873015873017\n",
      "\n",
      "Generation 37 - Current best internal CV score: 0.8315873015873017\n",
      "\n",
      "Generation 38 - Current best internal CV score: 0.8315873015873017\n",
      "\n",
      "Generation 39 - Current best internal CV score: 0.8315873015873017\n",
      "\n",
      "Generation 40 - Current best internal CV score: 0.8315873015873017\n",
      "\n",
      "Generation 41 - Current best internal CV score: 0.8315873015873017\n",
      "\n",
      "Generation 42 - Current best internal CV score: 0.8315873015873017\n",
      "\n",
      "Generation 43 - Current best internal CV score: 0.8315873015873017\n",
      "\n",
      "Generation 44 - Current best internal CV score: 0.8315873015873017\n",
      "\n",
      "Generation 45 - Current best internal CV score: 0.8315873015873017\n",
      "\n",
      "Generation 46 - Current best internal CV score: 0.8315873015873017\n",
      "\n",
      "Generation 47 - Current best internal CV score: 0.8315873015873017\n",
      "\n",
      "Generation 48 - Current best internal CV score: 0.8315873015873017\n",
      "\n",
      "Generation 49 - Current best internal CV score: 0.8315873015873017\n",
      "\n",
      "Generation 50 - Current best internal CV score: 0.8315873015873017\n",
      "\n",
      "Generation 51 - Current best internal CV score: 0.8315873015873017\n",
      "\n",
      "Generation 52 - Current best internal CV score: 0.8315873015873017\n",
      "\n",
      "Generation 53 - Current best internal CV score: 0.8315873015873017\n",
      "\n",
      "Generation 54 - Current best internal CV score: 0.8315873015873017\n",
      "\n",
      "Generation 55 - Current best internal CV score: 0.8315873015873017\n",
      "\n",
      "Generation 56 - Current best internal CV score: 0.8315873015873017\n",
      "\n",
      "Generation 57 - Current best internal CV score: 0.8315873015873017\n",
      "\n",
      "Generation 58 - Current best internal CV score: 0.8315873015873017\n",
      "\n",
      "Generation 59 - Current best internal CV score: 0.8315873015873017\n",
      "\n",
      "Generation 60 - Current best internal CV score: 0.8315873015873017\n",
      "\n",
      "Generation 61 - Current best internal CV score: 0.8315873015873017\n",
      "\n",
      "Generation 62 - Current best internal CV score: 0.8315873015873017\n",
      "\n",
      "Generation 63 - Current best internal CV score: 0.8315873015873017\n",
      "\n",
      "Generation 64 - Current best internal CV score: 0.8315873015873017\n",
      "\n",
      "Generation 65 - Current best internal CV score: 0.8315873015873017\n",
      "\n",
      "Generation 66 - Current best internal CV score: 0.8315873015873017\n",
      "\n",
      "Generation 67 - Current best internal CV score: 0.8315873015873017\n",
      "\n",
      "Generation 68 - Current best internal CV score: 0.8315873015873017\n",
      "\n",
      "Generation 69 - Current best internal CV score: 0.8315873015873017\n",
      "\n",
      "Generation 70 - Current best internal CV score: 0.8315873015873017\n",
      "\n",
      "Generation 71 - Current best internal CV score: 0.8315873015873017\n",
      "\n",
      "Generation 72 - Current best internal CV score: 0.8315873015873017\n",
      "\n",
      "Generation 73 - Current best internal CV score: 0.8315873015873017\n",
      "\n",
      "Generation 74 - Current best internal CV score: 0.8315873015873017\n",
      "\n",
      "Generation 75 - Current best internal CV score: 0.8315873015873017\n",
      "\n",
      "Generation 76 - Current best internal CV score: 0.8315873015873017\n",
      "\n",
      "Generation 77 - Current best internal CV score: 0.8315873015873017\n",
      "\n",
      "Generation 78 - Current best internal CV score: 0.8315873015873017\n",
      "\n",
      "Generation 79 - Current best internal CV score: 0.8315873015873017\n",
      "\n",
      "Generation 80 - Current best internal CV score: 0.8315873015873017\n",
      "\n",
      "Generation 81 - Current best internal CV score: 0.8315873015873017\n",
      "\n",
      "Generation 82 - Current best internal CV score: 0.8315873015873017\n",
      "\n",
      "Generation 83 - Current best internal CV score: 0.8315873015873017\n",
      "\n",
      "Generation 84 - Current best internal CV score: 0.8315873015873017\n",
      "\n",
      "Generation 85 - Current best internal CV score: 0.8315873015873017\n",
      "\n",
      "Generation 86 - Current best internal CV score: 0.8315873015873017\n",
      "\n",
      "Generation 87 - Current best internal CV score: 0.8315873015873017\n",
      "\n",
      "Generation 88 - Current best internal CV score: 0.8315873015873017\n",
      "\n",
      "Generation 89 - Current best internal CV score: 0.8315873015873017\n",
      "\n",
      "Generation 90 - Current best internal CV score: 0.8315873015873017\n",
      "\n",
      "Generation 91 - Current best internal CV score: 0.8315873015873017\n",
      "\n",
      "Generation 92 - Current best internal CV score: 0.8315873015873017\n",
      "\n",
      "Generation 93 - Current best internal CV score: 0.8315873015873017\n",
      "\n",
      "Generation 94 - Current best internal CV score: 0.8315873015873017\n",
      "\n",
      "Generation 95 - Current best internal CV score: 0.8315873015873017\n",
      "\n",
      "Generation 96 - Current best internal CV score: 0.8315873015873017\n",
      "\n",
      "Generation 97 - Current best internal CV score: 0.8315873015873017\n",
      "\n",
      "Generation 98 - Current best internal CV score: 0.8315873015873017\n",
      "\n",
      "Generation 99 - Current best internal CV score: 0.8315873015873017\n",
      "\n",
      "Generation 100 - Current best internal CV score: 0.8315873015873017\n",
      "\n",
      "Best pipeline: ExtraTreesClassifier(MLPClassifier(MinMaxScaler(GaussianNB(DecisionTreeClassifier(input_matrix, criterion=entropy, max_depth=4, min_samples_leaf=5, min_samples_split=8))), alpha=0.0001, learning_rate_init=0.5), bootstrap=False, criterion=gini, max_features=0.25, min_samples_leaf=10, min_samples_split=7, n_estimators=100)\n"
     ]
    },
    {
     "data": {
      "text/plain": [
       "TPOTClassifier(random_state=42, verbosity=2)"
      ]
     },
     "execution_count": 24,
     "metadata": {},
     "output_type": "execute_result"
    }
   ],
   "source": [
    "pipeline_optimizer.fit(X_test, y_test)"
   ]
  },
  {
   "cell_type": "code",
   "execution_count": 36,
   "id": "92602a32-7980-4979-87be-d7b7c220083d",
   "metadata": {},
   "outputs": [
    {
     "name": "stdout",
     "output_type": "stream",
     "text": [
      "0.8314606741573034\n"
     ]
    }
   ],
   "source": [
    "print(pipeline_optimizer.score(X_test, y_test))"
   ]
  },
  {
   "cell_type": "code",
   "execution_count": 37,
   "id": "895cf466-b8c9-4c80-85c5-4f68c34657d7",
   "metadata": {},
   "outputs": [],
   "source": [
    "pipeline_optimizer.export('tpot_exported_pipeline.py')\n"
   ]
  },
  {
   "cell_type": "code",
   "execution_count": 38,
   "id": "92d88afc-99dd-4ab0-874b-8fcfb4b824f9",
   "metadata": {},
   "outputs": [],
   "source": [
    "import numpy as np\n",
    "from sklearn.ensemble import ExtraTreesClassifier\n",
    "from sklearn.model_selection import train_test_split\n",
    "from sklearn.naive_bayes import GaussianNB\n",
    "from sklearn.neural_network import MLPClassifier\n",
    "from sklearn.pipeline import make_pipeline, make_union\n",
    "from sklearn.preprocessing import MinMaxScaler\n",
    "from sklearn.tree import DecisionTreeClassifier\n",
    "from tpot.builtins import StackingEstimator\n",
    "from tpot.export_utils import set_param_recursive"
   ]
  },
  {
   "cell_type": "code",
   "execution_count": 43,
   "id": "6da52828-32ec-4040-8cd6-3d26ccec8be4",
   "metadata": {},
   "outputs": [],
   "source": [
    "tpot_data = y.copy()"
   ]
  },
  {
   "cell_type": "code",
   "execution_count": 44,
   "id": "a59e604b-12a3-4415-a702-5e6b046ae8f8",
   "metadata": {},
   "outputs": [],
   "source": [
    "features = X.copy()"
   ]
  },
  {
   "cell_type": "code",
   "execution_count": 45,
   "id": "0296673f-0708-4ae7-90f2-bb8974df318c",
   "metadata": {},
   "outputs": [],
   "source": [
    "training_features, testing_features, training_target, testing_target = \\\n",
    "            train_test_split(features, tpot_data, random_state=42)"
   ]
  },
  {
   "cell_type": "code",
   "execution_count": 46,
   "id": "f7c1c335-fa09-442e-b4e5-e898afb44ea7",
   "metadata": {},
   "outputs": [],
   "source": [
    "exported_pipeline = make_pipeline(\n",
    "    StackingEstimator(estimator=DecisionTreeClassifier(criterion=\"entropy\", max_depth=4, min_samples_leaf=5, min_samples_split=8)),\n",
    "    StackingEstimator(estimator=GaussianNB()),\n",
    "    MinMaxScaler(),\n",
    "    StackingEstimator(estimator=MLPClassifier(alpha=0.0001, learning_rate_init=0.5)),\n",
    "    ExtraTreesClassifier(bootstrap=False, criterion=\"gini\", max_features=0.25, min_samples_leaf=10, min_samples_split=7, n_estimators=100)\n",
    ")"
   ]
  },
  {
   "cell_type": "code",
   "execution_count": 47,
   "id": "97a1fc98-888c-43a6-b6fe-acd6bce61f48",
   "metadata": {},
   "outputs": [],
   "source": [
    "set_param_recursive(exported_pipeline.steps, 'random_state', 42)\n",
    "\n",
    "exported_pipeline.fit(training_features, training_target)\n",
    "results = exported_pipeline.predict(testing_features)"
   ]
  },
  {
   "cell_type": "code",
   "execution_count": 51,
   "id": "673e4286-8c4e-404e-b013-4de65dabd3ce",
   "metadata": {},
   "outputs": [
    {
     "name": "stdout",
     "output_type": "stream",
     "text": [
      "Training Data Score: 0.850187265917603\n",
      "Testing Data Score: 0.8089887640449438\n"
     ]
    }
   ],
   "source": [
    "print(f\"Training Data Score: {exported_pipeline.score(training_features, training_target)}\")\n",
    "print(f\"Testing Data Score: {exported_pipeline.score(testing_features, testing_target)}\")"
   ]
  },
  {
   "cell_type": "code",
   "execution_count": 53,
   "id": "9c6def69-4ff9-4561-a5cf-60e85372ec1b",
   "metadata": {},
   "outputs": [
    {
     "data": {
      "text/html": [
       "<div>\n",
       "<style scoped>\n",
       "    .dataframe tbody tr th:only-of-type {\n",
       "        vertical-align: middle;\n",
       "    }\n",
       "\n",
       "    .dataframe tbody tr th {\n",
       "        vertical-align: top;\n",
       "    }\n",
       "\n",
       "    .dataframe thead th {\n",
       "        text-align: right;\n",
       "    }\n",
       "</style>\n",
       "<table border=\"1\" class=\"dataframe\">\n",
       "  <thead>\n",
       "    <tr style=\"text-align: right;\">\n",
       "      <th></th>\n",
       "      <th>PassengerId</th>\n",
       "      <th>Survived</th>\n",
       "    </tr>\n",
       "  </thead>\n",
       "  <tbody>\n",
       "    <tr>\n",
       "      <th>0</th>\n",
       "      <td>741</td>\n",
       "      <td>1</td>\n",
       "    </tr>\n",
       "    <tr>\n",
       "      <th>1</th>\n",
       "      <td>104</td>\n",
       "      <td>0</td>\n",
       "    </tr>\n",
       "    <tr>\n",
       "      <th>2</th>\n",
       "      <td>181</td>\n",
       "      <td>0</td>\n",
       "    </tr>\n",
       "    <tr>\n",
       "      <th>3</th>\n",
       "      <td>412</td>\n",
       "      <td>0</td>\n",
       "    </tr>\n",
       "    <tr>\n",
       "      <th>4</th>\n",
       "      <td>414</td>\n",
       "      <td>0</td>\n",
       "    </tr>\n",
       "    <tr>\n",
       "      <th>...</th>\n",
       "      <td>...</td>\n",
       "      <td>...</td>\n",
       "    </tr>\n",
       "    <tr>\n",
       "      <th>174</th>\n",
       "      <td>612</td>\n",
       "      <td>0</td>\n",
       "    </tr>\n",
       "    <tr>\n",
       "      <th>175</th>\n",
       "      <td>626</td>\n",
       "      <td>0</td>\n",
       "    </tr>\n",
       "    <tr>\n",
       "      <th>176</th>\n",
       "      <td>881</td>\n",
       "      <td>1</td>\n",
       "    </tr>\n",
       "    <tr>\n",
       "      <th>177</th>\n",
       "      <td>606</td>\n",
       "      <td>0</td>\n",
       "    </tr>\n",
       "    <tr>\n",
       "      <th>178</th>\n",
       "      <td>379</td>\n",
       "      <td>0</td>\n",
       "    </tr>\n",
       "  </tbody>\n",
       "</table>\n",
       "<p>179 rows × 2 columns</p>\n",
       "</div>"
      ],
      "text/plain": [
       "     PassengerId  Survived\n",
       "0            741         1\n",
       "1            104         0\n",
       "2            181         0\n",
       "3            412         0\n",
       "4            414         0\n",
       "..           ...       ...\n",
       "174          612         0\n",
       "175          626         0\n",
       "176          881         1\n",
       "177          606         0\n",
       "178          379         0\n",
       "\n",
       "[179 rows x 2 columns]"
      ]
     },
     "execution_count": 53,
     "metadata": {},
     "output_type": "execute_result"
    }
   ],
   "source": [
    "predict_sub = test[['Pclass',  'Age', 'SibSp',\n",
    "       'Parch', 'Fare', 'female', 'Emb Cherbourg',\n",
    "       'Emb Queenstown', 'Emb Southampton']]\n",
    "survived = exported_pipeline.predict(predict_sub)\n",
    "predictions = pd.DataFrame({'PassengerId':list(test['PassengerId']), 'Survived':list(survived)})\n",
    "predictions"
   ]
  },
  {
   "cell_type": "code",
   "execution_count": 55,
   "id": "71966053-1371-4ac8-8649-aecc2ce40405",
   "metadata": {},
   "outputs": [],
   "source": [
    "predictions.to_csv('submissions/10_13_5_TPOT.csv', index=False)"
   ]
  },
  {
   "cell_type": "code",
   "execution_count": null,
   "id": "9d617d00-279f-49a6-aee1-45e983463881",
   "metadata": {},
   "outputs": [],
   "source": []
  }
 ],
 "metadata": {
  "kernelspec": {
   "display_name": "Python 3",
   "language": "python",
   "name": "python3"
  },
  "language_info": {
   "codemirror_mode": {
    "name": "ipython",
    "version": 3
   },
   "file_extension": ".py",
   "mimetype": "text/x-python",
   "name": "python",
   "nbconvert_exporter": "python",
   "pygments_lexer": "ipython3",
   "version": "3.8.8"
  }
 },
 "nbformat": 4,
 "nbformat_minor": 5
}
