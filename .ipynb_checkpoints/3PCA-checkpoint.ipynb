{
 "cells": [
  {
   "cell_type": "code",
   "execution_count": 1,
   "id": "23b17074-ffca-408e-af02-ffe375ceb869",
   "metadata": {},
   "outputs": [],
   "source": [
    "import pandas as pd"
   ]
  },
  {
   "cell_type": "code",
   "execution_count": 2,
   "id": "4abccecd-ef57-4096-89bd-d86e24ba1fa4",
   "metadata": {},
   "outputs": [],
   "source": [
    "def cleanTitanic(path):\n",
    "    data = pd.read_csv(path)\n",
    "    data.drop(columns='Cabin', inplace=True)\n",
    "    values = {'Age': data['Age'].mean(), 'Embarked':data['Embarked'].mode()[0] }\n",
    "    data.fillna(value = values, inplace=True)\n",
    "    data['female'] = pd.get_dummies(data['Sex'])['female']\n",
    "    emb = pd.get_dummies(data['Embarked'])\n",
    "    data['Emb Cherbourg'] = emb['C']\n",
    "    data['Emb Queenstown'] = emb['Q']\n",
    "    data['Emb Southampton'] = emb['S']\n",
    "    return data"
   ]
  },
  {
   "cell_type": "code",
   "execution_count": 3,
   "id": "7e94b611-1c0e-48a8-8d5a-fc89ff949835",
   "metadata": {},
   "outputs": [],
   "source": [
    "data = cleanTitanic('titanic_data/train (1).csv')\n",
    "X = data[['Pclass',  'Age', 'SibSp',\n",
    "       'Parch', 'Fare', 'female', 'Emb Cherbourg',\n",
    "       'Emb Queenstown', 'Emb Southampton']]\n",
    "y = data['Survived']"
   ]
  },
  {
   "cell_type": "code",
   "execution_count": 4,
   "id": "46cdaddd-5297-4ef9-8c19-a6c9bcd54058",
   "metadata": {},
   "outputs": [],
   "source": [
    "from sklearn.model_selection import train_test_split\n",
    "\n",
    "X_train, X_test, y_train, y_test = train_test_split(X, y, random_state=42)"
   ]
  },
  {
   "cell_type": "code",
   "execution_count": 5,
   "id": "1a6feca9-68c7-4a43-a97f-7f73686c96f3",
   "metadata": {},
   "outputs": [],
   "source": [
    "test = cleanTitanic('titanic_data/test_2.csv')"
   ]
  },
  {
   "cell_type": "code",
   "execution_count": 30,
   "id": "111bf26e-45ba-44a0-92fb-c4aedc6a4dc4",
   "metadata": {},
   "outputs": [],
   "source": [
    "from sklearn.cluster import KMeans\n",
    "import matplotlib.pyplot as plt\n",
    "from sklearn.decomposition import PCA"
   ]
  },
  {
   "cell_type": "code",
   "execution_count": 38,
   "id": "9d0c0d4c-e662-4924-a4c6-1a84624943b7",
   "metadata": {},
   "outputs": [
    {
     "data": {
      "text/plain": [
       "array([0.24216847, 0.20173668, 0.18773436, 0.10793781])"
      ]
     },
     "execution_count": 38,
     "metadata": {},
     "output_type": "execute_result"
    }
   ],
   "source": [
    "X_scaled = StandardScaler().fit_transform(X_train)\n",
    "pca = PCA(n_components=4)\n",
    "X_tr_pca = pca.fit_transform(X_scaled)\n",
    "df_iris_pca = pd.DataFrame(data=X_tr_pca, columns = ['PC1', 'PC2', 'PC3', 'PC4'])\n",
    "pca.explained_variance_ratio_"
   ]
  },
  {
   "cell_type": "code",
   "execution_count": null,
   "id": "d36d7879-5d6f-4a5a-b6e6-33af52680a97",
   "metadata": {},
   "outputs": [],
   "source": [
    "inertia = []\n",
    "k = list(range(1, 11))\n",
    "\n",
    "# Calculate the inertia for the range of k values\n",
    "for i in k:\n",
    "    km = KMeans(n_clusters=i, random_state=42)\n",
    "    km.fit(X_train)\n",
    "    inertia.append(km.inertia_)\n",
    "\n",
    "# Create the Elbow Curve using hvPlot\n",
    "elbow_data = {\"k\": k, \"inertia\": inertia}\n",
    "df_elbow = pd.DataFrame(elbow_data)\n",
    "df_elbow.head()"
   ]
  },
  {
   "cell_type": "code",
   "execution_count": 8,
   "id": "586d1b88-80df-4d2d-9ebd-2ac7fbcc6a24",
   "metadata": {},
   "outputs": [
    {
     "data": {
      "image/png": "[encoded data removed]",
      "text/plain": [
       "<Figure size 432x288 with 1 Axes>"
      ]
     },
     "metadata": {
      "needs_background": "light"
     },
     "output_type": "display_data"
    }
   ],
   "source": [
    "plt.plot(df_elbow['k'], df_elbow['inertia'])\n",
    "plt.xticks(range(1,11))\n",
    "plt.xlabel('Number of clusters')\n",
    "plt.ylabel('Inertia')\n",
    "plt.title('Elbow curve for customer data')\n",
    "plt.show()"
   ]
  },
  {
   "cell_type": "code",
   "execution_count": 9,
   "id": "a7467d3c-cf1e-42ee-a274-5013ff378898",
   "metadata": {},
   "outputs": [],
   "source": [
    "def get_clusters(k, data):\n",
    "    # Initialize the K-Means model\n",
    "    data = data.copy()\n",
    "    model = KMeans(n_clusters=k, random_state=0)\n",
    "\n",
    "    # Train the model\n",
    "    model.fit(data)\n",
    "\n",
    "    # Predict clusters\n",
    "    predictions = model.predict(data)\n",
    "\n",
    "    # Create return DataFrame with predicted clusters\n",
    "    data[\"class\"] = model.labels_\n",
    "\n",
    "    return data"
   ]
  },
  {
   "cell_type": "code",
   "execution_count": null,
   "id": "d3c0a257-dd64-43d4-a8c1-3983800dd6df",
   "metadata": {},
   "outputs": [],
   "source": []
  },
  {
   "cell_type": "code",
   "execution_count": 10,
   "id": "a735ae40-763e-4c6c-a3be-472cafd3024c",
   "metadata": {},
   "outputs": [],
   "source": [
    "from sklearn.linear_model import LogisticRegression\n",
    "from sklearn.preprocessing import StandardScaler"
   ]
  },
  {
   "cell_type": "code",
   "execution_count": null,
   "id": "0159dfd9-72aa-4809-81d7-47171115f729",
   "metadata": {},
   "outputs": [],
   "source": []
  },
  {
   "cell_type": "code",
   "execution_count": 28,
   "id": "57adc967-bf7d-4e5b-a4ba-2d169d033099",
   "metadata": {},
   "outputs": [],
   "source": [
    "classifier = LogisticRegression(max_iter=1000)\n",
    "X_train_class = get_clusters(3, X_train)\n",
    "\n",
    "classifier.fit(X_scaled, y_train)\n",
    "X_test_class = get_clusters(3, X_test)\n",
    "X_test_scaler = StandardScaler().fit(X_test_class)\n",
    "X_test_scaled = X_test_scaler.transform(X_test_class)"
   ]
  },
  {
   "cell_type": "code",
   "execution_count": 29,
   "id": "65b7cc9f-e1b5-4fe3-9d2b-9a772b7e7fb6",
   "metadata": {},
   "outputs": [
    {
     "name": "stdout",
     "output_type": "stream",
     "text": [
      "Training Data Score: 0.797752808988764\n",
      "Testing Data Score: 0.7696629213483146\n"
     ]
    }
   ],
   "source": [
    "print(f\"Training Data Score: {classifier.score(X_scaled, y_train)}\")\n",
    "print(f\"Testing Data Score: {classifier.score(X_test_scaled, y_test)}\")"
   ]
  },
  {
   "cell_type": "code",
   "execution_count": 34,
   "id": "99583e79-d94f-495d-a292-5a2bd621a4e1",
   "metadata": {},
   "outputs": [],
   "source": [
    "predict_sub = test[['Pclass',  'Age', 'SibSp',\n",
    "   'Parch', 'Fare', 'female', 'Emb Cherbourg',\n",
    "   'Emb Queenstown', 'Emb Southampton']]\n",
    "predict_class = get_clusters(3, predict_sub)\n",
    "scaler_predict = StandardScaler().fit(predict_class)\n",
    "predict_scaled = scaler_predict.transform(predict_class)\n",
    "survived = classifier.predict(predict_scaled)\n",
    "predictions = pd.DataFrame({'PassengerId':list(test['PassengerId']), 'Survived':list(survived)})"
   ]
  },
  {
   "cell_type": "code",
   "execution_count": 35,
   "id": "b0165ac8-3d3d-4b09-b7b8-ae00636e7887",
   "metadata": {},
   "outputs": [
    {
     "data": {
      "text/html": [
       "<div>\n",
       "<style scoped>\n",
       "    .dataframe tbody tr th:only-of-type {\n",
       "        vertical-align: middle;\n",
       "    }\n",
       "\n",
       "    .dataframe tbody tr th {\n",
       "        vertical-align: top;\n",
       "    }\n",
       "\n",
       "    .dataframe thead th {\n",
       "        text-align: right;\n",
       "    }\n",
       "</style>\n",
       "<table border=\"1\" class=\"dataframe\">\n",
       "  <thead>\n",
       "    <tr style=\"text-align: right;\">\n",
       "      <th></th>\n",
       "      <th>PassengerId</th>\n",
       "      <th>Survived</th>\n",
       "    </tr>\n",
       "  </thead>\n",
       "  <tbody>\n",
       "    <tr>\n",
       "      <th>0</th>\n",
       "      <td>741</td>\n",
       "      <td>1</td>\n",
       "    </tr>\n",
       "    <tr>\n",
       "      <th>1</th>\n",
       "      <td>104</td>\n",
       "      <td>0</td>\n",
       "    </tr>\n",
       "    <tr>\n",
       "      <th>2</th>\n",
       "      <td>181</td>\n",
       "      <td>0</td>\n",
       "    </tr>\n",
       "    <tr>\n",
       "      <th>3</th>\n",
       "      <td>412</td>\n",
       "      <td>0</td>\n",
       "    </tr>\n",
       "    <tr>\n",
       "      <th>4</th>\n",
       "      <td>414</td>\n",
       "      <td>0</td>\n",
       "    </tr>\n",
       "    <tr>\n",
       "      <th>...</th>\n",
       "      <td>...</td>\n",
       "      <td>...</td>\n",
       "    </tr>\n",
       "    <tr>\n",
       "      <th>174</th>\n",
       "      <td>612</td>\n",
       "      <td>0</td>\n",
       "    </tr>\n",
       "    <tr>\n",
       "      <th>175</th>\n",
       "      <td>626</td>\n",
       "      <td>0</td>\n",
       "    </tr>\n",
       "    <tr>\n",
       "      <th>176</th>\n",
       "      <td>881</td>\n",
       "      <td>1</td>\n",
       "    </tr>\n",
       "    <tr>\n",
       "      <th>177</th>\n",
       "      <td>606</td>\n",
       "      <td>0</td>\n",
       "    </tr>\n",
       "    <tr>\n",
       "      <th>178</th>\n",
       "      <td>379</td>\n",
       "      <td>0</td>\n",
       "    </tr>\n",
       "  </tbody>\n",
       "</table>\n",
       "<p>179 rows × 2 columns</p>\n",
       "</div>"
      ],
      "text/plain": [
       "     PassengerId  Survived\n",
       "0            741         1\n",
       "1            104         0\n",
       "2            181         0\n",
       "3            412         0\n",
       "4            414         0\n",
       "..           ...       ...\n",
       "174          612         0\n",
       "175          626         0\n",
       "176          881         1\n",
       "177          606         0\n",
       "178          379         0\n",
       "\n",
       "[179 rows x 2 columns]"
      ]
     },
     "execution_count": 35,
     "metadata": {},
     "output_type": "execute_result"
    }
   ],
   "source": [
    "predictions"
   ]
  },
  {
   "cell_type": "code",
   "execution_count": 36,
   "id": "aaaa7c17-4aa3-4c14-8c67-838e0d20684f",
   "metadata": {},
   "outputs": [],
   "source": [
    "predictions.to_csv('submissions/s10_13_3.csv', index=False)"
   ]
  },
  {
   "cell_type": "code",
   "execution_count": null,
   "id": "e0d49160-8e26-472a-b6de-5c6380a06c8f",
   "metadata": {},
   "outputs": [],
   "source": []
  }
 ],
 "metadata": {
  "kernelspec": {
   "display_name": "Python 3",
   "language": "python",
   "name": "python3"
  },
  "language_info": {
   "codemirror_mode": {
    "name": "ipython",
    "version": 3
   },
   "file_extension": ".py",
   "mimetype": "text/x-python",
   "name": "python",
   "nbconvert_exporter": "python",
   "pygments_lexer": "ipython3",
   "version": "3.8.8"
  }
 },
 "nbformat": 4,
 "nbformat_minor": 5
}
